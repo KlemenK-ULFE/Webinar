{
 "cells": [
  {
   "cell_type": "markdown",
   "metadata": {},
   "source": [
    "# ⚙️ Optimal Power Flow primer z različnimi scenariji\n",
    "Uporaba pandapower za izračun pretoka moči, stroškov in obremenitev transformatorja z različnimi vhodnimi pogoji."
   ]
  },
  {
   "cell_type": "code",
   "metadata": {
    "ExecuteTime": {
     "end_time": "2025-04-23T13:46:33.987134Z",
     "start_time": "2025-04-23T13:46:32.222076Z"
    }
   },
   "source": [
    "import pandapower as pp\n",
    "import numpy as np"
   ],
   "outputs": [],
   "execution_count": 1
  },
  {
   "cell_type": "code",
   "metadata": {
    "ExecuteTime": {
     "end_time": "2025-04-23T13:46:40.811740Z",
     "start_time": "2025-04-23T13:46:40.766032Z"
    }
   },
   "source": [
    "net = pp.create_empty_network()"
   ],
   "outputs": [],
   "execution_count": 2
  },
  {
   "cell_type": "code",
   "metadata": {
    "ExecuteTime": {
     "end_time": "2025-04-23T13:46:48.787455Z",
     "start_time": "2025-04-23T13:46:48.757391Z"
    }
   },
   "source": [
    "bus1 = pp.create_bus(net, vn_kv=220.)\n",
    "bus2 = pp.create_bus(net, vn_kv=110.)\n",
    "bus3 = pp.create_bus(net, vn_kv=110.)\n",
    "bus4 = pp.create_bus(net, vn_kv=110.)"
   ],
   "outputs": [],
   "execution_count": 3
  },
  {
   "cell_type": "code",
   "metadata": {
    "ExecuteTime": {
     "end_time": "2025-04-23T13:46:54.305928Z",
     "start_time": "2025-04-23T13:46:54.278880Z"
    }
   },
   "source": [
    "pp.create_transformer(net, bus1, bus2, std_type=\"100 MVA 220/110 kV\")"
   ],
   "outputs": [
    {
     "data": {
      "text/plain": [
       "0"
      ]
     },
     "execution_count": 4,
     "metadata": {},
     "output_type": "execute_result"
    }
   ],
   "execution_count": 4
  },
  {
   "cell_type": "code",
   "metadata": {
    "ExecuteTime": {
     "end_time": "2025-04-23T13:46:56.466531Z",
     "start_time": "2025-04-23T13:46:56.443908Z"
    }
   },
   "source": [
    "pp.create_line(net, bus2, bus3, length_km=70., std_type='149-AL1/24-ST1A 110.0')\n",
    "pp.create_line(net, bus3, bus4, length_km=50., std_type='149-AL1/24-ST1A 110.0')\n",
    "pp.create_line(net, bus4, bus2, length_km=40., std_type='149-AL1/24-ST1A 110.0')"
   ],
   "outputs": [
    {
     "data": {
      "text/plain": [
       "2"
      ]
     },
     "execution_count": 5,
     "metadata": {},
     "output_type": "execute_result"
    }
   ],
   "execution_count": 5
  },
  {
   "cell_type": "code",
   "metadata": {
    "ExecuteTime": {
     "end_time": "2025-04-23T13:47:00.977998Z",
     "start_time": "2025-04-23T13:47:00.945879Z"
    }
   },
   "source": [
    "pp.create_load(net, bus2, p_mw=60, controllable=False)\n",
    "pp.create_load(net, bus3, p_mw=70, controllable=False)\n",
    "pp.create_load(net, bus4, p_mw=10, controllable=False)"
   ],
   "outputs": [
    {
     "data": {
      "text/plain": [
       "2"
      ]
     },
     "execution_count": 6,
     "metadata": {},
     "output_type": "execute_result"
    }
   ],
   "execution_count": 6
  },
  {
   "cell_type": "code",
   "metadata": {
    "ExecuteTime": {
     "end_time": "2025-04-23T13:47:13.943397Z",
     "start_time": "2025-04-23T13:47:13.902662Z"
    }
   },
   "source": [
    "eg = pp.create_ext_grid(net, bus1, min_p_mw=-1000, max_p_mw=1000)\n",
    "g0 = pp.create_gen(net, bus3, p_mw=80, min_p_mw=0, max_p_mw=80,  vm_pu=1.01, controllable=True)\n",
    "g1 = pp.create_gen(net, bus4, p_mw=100, min_p_mw=0, max_p_mw=100, vm_pu=1.01, controllable=True)\n",
    "costeg = pp.create_poly_cost(net, 0, 'ext_grid', cp1_eur_per_mw=10)\n",
    "costgen1 = pp.create_poly_cost(net, 0, 'gen', cp1_eur_per_mw=10)\n",
    "costgen2 = pp.create_poly_cost(net, 1, 'gen', cp1_eur_per_mw=10)"
   ],
   "outputs": [],
   "execution_count": 7
  },
  {
   "cell_type": "code",
   "metadata": {
    "ExecuteTime": {
     "end_time": "2025-04-23T07:57:31.823288Z",
     "start_time": "2025-04-23T07:57:31.567487Z"
    }
   },
   "source": [
    "pp.runopp(net, delta=1e-16)\n",
    "print('Analiza osnovnega primera')\n",
    "print(f\"Moč toge mreže \\n{net.res_ext_grid}\")\n",
    "print(f\"Moč generatorjev \\n{net.res_gen}\")\n",
    "print(f\"Skupen strošek: \\n{net.res_cost} €\")"
   ],
   "outputs": [
    {
     "name": "stdout",
     "output_type": "stream",
     "text": [
      "Analiza osnovnega primera\n",
      "Moč toge mreže \n",
      "        p_mw    q_mvar\n",
      "0  49.953012 -2.147126\n",
      "Moč generatorjev \n",
      "        p_mw    q_mvar  va_degree     vm_pu\n",
      "0   0.000598  2.992989  -6.232710  0.985230\n",
      "1  93.304317  3.453173  -1.237784  1.025709\n",
      "Skupen strošek: \n",
      "1619.1908981410588 €\n"
     ]
    }
   ],
   "execution_count": 11
  },
  {
   "cell_type": "code",
   "metadata": {
    "ExecuteTime": {
     "end_time": "2025-04-23T13:48:20.098462Z",
     "start_time": "2025-04-23T13:48:19.902735Z"
    }
   },
   "source": [
    "net.poly_cost.cp1_eur_per_mw.at[costeg] = 10\n",
    "net.poly_cost.cp1_eur_per_mw.at[costgen1] = 15\n",
    "net.poly_cost.cp1_eur_per_mw.at[costgen2] = 12\n",
    "pp.runopp(net, delta=1e-16)\n",
    "print('\\nAnaliza drugega primera')\n",
    "print(f\"Moč toge mreže \\n{net.res_ext_grid}\")\n",
    "print(f\"Moč generatorjev \\n{net.res_gen}\")\n",
    "print(f\"Skupen strošek: \\n{net.res_cost} €\")\n",
    "print(f\"Obremenitev transformatorja: \\n{net.res_trafo.loading_percent}\")"
   ],
   "outputs": [
    {
     "name": "stderr",
     "output_type": "stream",
     "text": [
      "numba cannot be imported and numba functions are disabled.\n",
      "Probably the execution is slow.\n",
      "Please install numba to gain a massive speedup.\n",
      "(or if you prefer slow execution, set the flag numba=False to avoid this warning!)\n"
     ]
    },
    {
     "name": "stdout",
     "output_type": "stream",
     "text": [
      "\n",
      "Analiza drugega primera\n",
      "Moč toge mreže \n",
      "         p_mw    q_mvar\n",
      "0  144.559166  9.193021\n",
      "Moč generatorjev \n",
      "       p_mw     q_mvar  va_degree     vm_pu\n",
      "0  0.000079   8.601766 -16.426835  0.967619\n",
      "1  0.000225  10.594623 -13.481007  0.989756\n",
      "Skupen strošek: \n",
      "1445.595544859482 €\n",
      "Obremenitev transformatorja: \n",
      "0    144.851179\n",
      "Name: loading_percent, dtype: float64\n"
     ]
    }
   ],
   "execution_count": 8
  },
  {
   "cell_type": "code",
   "metadata": {
    "ExecuteTime": {
     "end_time": "2025-04-23T13:49:00.826611Z",
     "start_time": "2025-04-23T13:49:00.518160Z"
    }
   },
   "source": [
    "net.trafo[\"max_loading_percent\"] = 50\n",
    "pp.runopp(net, delta=1e-16)\n",
    "print('\\nAnaliza tretjega primera')\n",
    "print(f\"Moč toge mreže \\n{net.res_ext_grid}\")\n",
    "print(f\"Moč generatorjev \\n{net.res_gen}\")\n",
    "print(f\"Skupen strošek: \\n{net.res_cost} €\")\n",
    "print(f\"Obremenitev transformatorja: \\n{net.res_trafo.loading_percent}\")"
   ],
   "outputs": [
    {
     "name": "stderr",
     "output_type": "stream",
     "text": [
      "numba cannot be imported and numba functions are disabled.\n",
      "Probably the execution is slow.\n",
      "Please install numba to gain a massive speedup.\n",
      "(or if you prefer slow execution, set the flag numba=False to avoid this warning!)\n"
     ]
    },
    {
     "name": "stdout",
     "output_type": "stream",
     "text": [
      "\n",
      "Analiza tretjega primera\n",
      "Moč toge mreže \n",
      "        p_mw    q_mvar\n",
      "0  49.953012 -2.147126\n",
      "Moč generatorjev \n",
      "        p_mw    q_mvar  va_degree     vm_pu\n",
      "0   0.000598  2.992989  -6.232710  0.985230\n",
      "1  93.304317  3.453173  -1.237784  1.025709\n",
      "Skupen strošek: \n",
      "1619.1908981410575 €\n",
      "Obremenitev transformatorja: \n",
      "0    49.999136\n",
      "Name: loading_percent, dtype: float64\n"
     ]
    }
   ],
   "execution_count": 9
  }
 ],
 "metadata": {
  "kernelspec": {
   "display_name": "Python 3",
   "language": "python",
   "name": "python3"
  },
  "language_info": {
   "name": "python"
  }
 },
 "nbformat": 4,
 "nbformat_minor": 2
}
