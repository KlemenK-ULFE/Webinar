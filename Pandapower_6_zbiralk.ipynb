{
 "cells": [
  {
   "cell_type": "markdown",
   "metadata": {},
   "source": [
    "# 🔌 Pandapower analiza: 6 zbiralk, 5 generatorjev, 3 bremena\n",
    "V tem zvezku ustvarimo preprosto elektroenergetsko omrežje z uporabo pandapower in izvedemo pretok moči ter interaktivno vizualizacijo."
   ]
  },
  {
   "cell_type": "code",
   "metadata": {
    "ExecuteTime": {
     "end_time": "2025-04-23T13:45:15.423273Z",
     "start_time": "2025-04-23T13:45:13.641128Z"
    }
   },
   "source": [
    "import pandapower as pp\n",
    "from pandapower.plotting.plotly import simple_plotly"
   ],
   "outputs": [],
   "execution_count": 1
  },
  {
   "cell_type": "code",
   "metadata": {
    "ExecuteTime": {
     "end_time": "2025-04-23T13:45:15.454464Z",
     "start_time": "2025-04-23T13:45:15.428287Z"
    }
   },
   "source": [
    "# Ustvari prazno omrežje\n",
    "net = pp.create_empty_network()"
   ],
   "outputs": [],
   "execution_count": 2
  },
  {
   "metadata": {
    "ExecuteTime": {
     "end_time": "2025-04-23T13:45:15.859849Z",
     "start_time": "2025-04-23T13:45:15.847339Z"
    }
   },
   "cell_type": "code",
   "source": [
    "# Visokonapetostna zbiralka\n",
    "hv_bus = pp.create_bus(net, vn_kv=110., name=\"110 kV zbiralka\")"
   ],
   "outputs": [],
   "execution_count": 3
  },
  {
   "cell_type": "code",
   "metadata": {
    "ExecuteTime": {
     "end_time": "2025-04-23T13:45:15.906569Z",
     "start_time": "2025-04-23T13:45:15.877398Z"
    }
   },
   "source": [
    "# Dodaj SN zbiralke\n",
    "buses = [pp.create_bus(net, vn_kv=20., name=f\"Zbiralka {i+1}\") for i in range(6)]"
   ],
   "outputs": [],
   "execution_count": 4
  },
  {
   "metadata": {
    "ExecuteTime": {
     "end_time": "2025-04-23T13:45:15.953633Z",
     "start_time": "2025-04-23T13:45:15.924432Z"
    }
   },
   "cell_type": "code",
   "source": [
    "#Transformator (110/20 kV)\n",
    "pp.create_transformer_from_parameters(\n",
    "    net, hv_bus, buses[0], sn_mva=40, vn_hv_kv=110, vn_lv_kv=20,\n",
    "    vsc_percent=10, vscr_percent=0.5, pfe_kw=0, i0_percent=0.1, vkr_percent=4, vkr0_percent=4, vk_percent= 5, shift_degree=0, name=\"Trafo 110/20\"\n",
    ")"
   ],
   "outputs": [
    {
     "data": {
      "text/plain": [
       "0"
      ]
     },
     "execution_count": 5,
     "metadata": {},
     "output_type": "execute_result"
    }
   ],
   "execution_count": 5
  },
  {
   "cell_type": "code",
   "metadata": {
    "ExecuteTime": {
     "end_time": "2025-04-23T13:45:16.001169Z",
     "start_time": "2025-04-23T13:45:15.970475Z"
    }
   },
   "source": [
    "# Poveži SN zbiralke z vodniki\n",
    "for i in range(5):\n",
    "    pp.create_line_from_parameters(net, buses[i], buses[i+1], length_km=1.0, r_ohm_per_km=0.1,\n",
    "                                   x_ohm_per_km=0.2, c_nf_per_km=10, max_i_ka=0.4,\n",
    "                                   name=f\"L{i+1}\", type=\"ol\")"
   ],
   "outputs": [],
   "execution_count": 6
  },
  {
   "cell_type": "code",
   "metadata": {
    "ExecuteTime": {
     "end_time": "2025-04-23T13:45:16.046978Z",
     "start_time": "2025-04-23T13:45:16.019213Z"
    }
   },
   "source": [
    "# Dodaj togo mrežo in generatorje\n",
    "pp.create_ext_grid(net, hv_bus, vm_pu=1.02, name=\"Toga mreža\")\n",
    "for i, bus in enumerate(buses[:5]):\n",
    "    pp.create_gen(net, bus, p_mw=0.1*(i+1), vm_pu=1.01, name=f\"Gen{i+1}\")"
   ],
   "outputs": [],
   "execution_count": 7
  },
  {
   "cell_type": "code",
   "metadata": {
    "ExecuteTime": {
     "end_time": "2025-04-23T13:45:16.094103Z",
     "start_time": "2025-04-23T13:45:16.065497Z"
    }
   },
   "source": [
    "# Dodaj bremena\n",
    "pp.create_load(net, buses[2], p_mw=0.3, q_mvar=0.05, name=\"Breme1\")\n",
    "pp.create_load(net, buses[4], p_mw=0.4, q_mvar=0.1, name=\"Breme2\")\n",
    "pp.create_load(net, buses[5], p_mw=0.2, q_mvar=0.03, name=\"Breme3\")"
   ],
   "outputs": [
    {
     "data": {
      "text/plain": [
       "2"
      ]
     },
     "execution_count": 8,
     "metadata": {},
     "output_type": "execute_result"
    }
   ],
   "execution_count": 8
  },
  {
   "cell_type": "code",
   "metadata": {
    "ExecuteTime": {
     "end_time": "2025-04-23T13:45:16.188019Z",
     "start_time": "2025-04-23T13:45:16.157360Z"
    }
   },
   "source": [
    "# Zaženi pretok moči\n",
    "pp.runpp(net)"
   ],
   "outputs": [
    {
     "name": "stderr",
     "output_type": "stream",
     "text": [
      "numba cannot be imported and numba functions are disabled.\n",
      "Probably the execution is slow.\n",
      "Please install numba to gain a massive speedup.\n",
      "(or if you prefer slow execution, set the flag numba=False to avoid this warning!)\n"
     ]
    }
   ],
   "execution_count": 9
  },
  {
   "cell_type": "code",
   "metadata": {
    "ExecuteTime": {
     "end_time": "2025-04-23T13:45:16.699303Z",
     "start_time": "2025-04-23T13:45:16.251278Z"
    }
   },
   "source": [
    "# Vizualizacija – ob lebdenju nad zbiralkami pokaže informacije\n",
    "fig = simple_plotly(net, respect_switches=True, bus_size=15, line_width=2)"
   ],
   "outputs": [
    {
     "name": "stderr",
     "output_type": "stream",
     "text": [
      "No or insufficient geodata available --> Creating artificial coordinates. This may take some time...\n"
     ]
    },
    {
     "ename": "ImportError",
     "evalue": "Some pandapower functionality use modules outside the setup.py requirements: build_igraph_from_pp() requires 'igraph'. \nigraph could not be imported.\nTo install all pandapower dependencies, pip install pandapower[\"all\"] can be used.",
     "output_type": "error",
     "traceback": [
      "\u001B[1;31m---------------------------------------------------------------------------\u001B[0m",
      "\u001B[1;31mImportError\u001B[0m                               Traceback (most recent call last)",
      "Cell \u001B[1;32mIn[10], line 2\u001B[0m\n\u001B[0;32m      1\u001B[0m \u001B[38;5;66;03m# Vizualizacija – ob lebdenju nad zbiralkami pokaže informacije\u001B[39;00m\n\u001B[1;32m----> 2\u001B[0m fig \u001B[38;5;241m=\u001B[39m \u001B[43msimple_plotly\u001B[49m\u001B[43m(\u001B[49m\u001B[43mnet\u001B[49m\u001B[43m,\u001B[49m\u001B[43m \u001B[49m\u001B[43mrespect_switches\u001B[49m\u001B[38;5;241;43m=\u001B[39;49m\u001B[38;5;28;43;01mTrue\u001B[39;49;00m\u001B[43m,\u001B[49m\u001B[43m \u001B[49m\u001B[43mbus_size\u001B[49m\u001B[38;5;241;43m=\u001B[39;49m\u001B[38;5;241;43m15\u001B[39;49m\u001B[43m,\u001B[49m\u001B[43m \u001B[49m\u001B[43mline_width\u001B[49m\u001B[38;5;241;43m=\u001B[39;49m\u001B[38;5;241;43m2\u001B[39;49m\u001B[43m)\u001B[49m\n",
      "File \u001B[1;32m~\\AppData\\Local\\Programs\\Python\\Python310\\lib\\site-packages\\pandapower\\plotting\\plotly\\simple_plotly.py:145\u001B[0m, in \u001B[0;36msimple_plotly\u001B[1;34m(net, respect_switches, use_line_geodata, on_map, projection, map_style, figsize, aspectratio, line_width, bus_size, ext_grid_size, bus_color, line_color, trafo_color, trafo3w_color, ext_grid_color, filename, auto_open, showlegend, additional_traces)\u001B[0m\n\u001B[0;32m    143\u001B[0m trans3w_element \u001B[38;5;241m=\u001B[39m \u001B[38;5;124m\"\u001B[39m\u001B[38;5;124mtrafo3w\u001B[39m\u001B[38;5;124m\"\u001B[39m\n\u001B[0;32m    144\u001B[0m separator_element \u001B[38;5;241m=\u001B[39m \u001B[38;5;124m\"\u001B[39m\u001B[38;5;124mswitch\u001B[39m\u001B[38;5;124m\"\u001B[39m\n\u001B[1;32m--> 145\u001B[0m traces, settings \u001B[38;5;241m=\u001B[39m \u001B[43m_simple_plotly_generic\u001B[49m\u001B[43m(\u001B[49m\u001B[43mnet\u001B[49m\u001B[38;5;241;43m=\u001B[39;49m\u001B[43mnet\u001B[49m\u001B[43m,\u001B[49m\n\u001B[0;32m    146\u001B[0m \u001B[43m                                          \u001B[49m\u001B[43mrespect_separators\u001B[49m\u001B[38;5;241;43m=\u001B[39;49m\u001B[43mrespect_switches\u001B[49m\u001B[43m,\u001B[49m\n\u001B[0;32m    147\u001B[0m \u001B[43m                                          \u001B[49m\u001B[43muse_branch_geodata\u001B[49m\u001B[38;5;241;43m=\u001B[39;49m\u001B[43muse_line_geodata\u001B[49m\u001B[43m,\u001B[49m\n\u001B[0;32m    148\u001B[0m \u001B[43m                                          \u001B[49m\u001B[43mon_map\u001B[49m\u001B[38;5;241;43m=\u001B[39;49m\u001B[43mon_map\u001B[49m\u001B[43m,\u001B[49m\n\u001B[0;32m    149\u001B[0m \u001B[43m                                          \u001B[49m\u001B[43mprojection\u001B[49m\u001B[38;5;241;43m=\u001B[39;49m\u001B[43mprojection\u001B[49m\u001B[43m,\u001B[49m\n\u001B[0;32m    150\u001B[0m \u001B[43m                                          \u001B[49m\u001B[43mmap_style\u001B[49m\u001B[38;5;241;43m=\u001B[39;49m\u001B[43mmap_style\u001B[49m\u001B[43m,\u001B[49m\n\u001B[0;32m    151\u001B[0m \u001B[43m                                          \u001B[49m\u001B[43mfigsize\u001B[49m\u001B[38;5;241;43m=\u001B[39;49m\u001B[43mfigsize\u001B[49m\u001B[43m,\u001B[49m\n\u001B[0;32m    152\u001B[0m \u001B[43m                                          \u001B[49m\u001B[43maspectratio\u001B[49m\u001B[38;5;241;43m=\u001B[39;49m\u001B[43maspectratio\u001B[49m\u001B[43m,\u001B[49m\n\u001B[0;32m    153\u001B[0m \u001B[43m                                          \u001B[49m\u001B[43mbranch_width\u001B[49m\u001B[38;5;241;43m=\u001B[39;49m\u001B[43mline_width\u001B[49m\u001B[43m,\u001B[49m\n\u001B[0;32m    154\u001B[0m \u001B[43m                                          \u001B[49m\u001B[43mnode_size\u001B[49m\u001B[38;5;241;43m=\u001B[39;49m\u001B[43mbus_size\u001B[49m\u001B[43m,\u001B[49m\n\u001B[0;32m    155\u001B[0m \u001B[43m                                          \u001B[49m\u001B[43mext_grid_size\u001B[49m\u001B[38;5;241;43m=\u001B[39;49m\u001B[43mext_grid_size\u001B[49m\u001B[43m,\u001B[49m\n\u001B[0;32m    156\u001B[0m \u001B[43m                                          \u001B[49m\u001B[43mnode_color\u001B[49m\u001B[38;5;241;43m=\u001B[39;49m\u001B[43mbus_color\u001B[49m\u001B[43m,\u001B[49m\n\u001B[0;32m    157\u001B[0m \u001B[43m                                          \u001B[49m\u001B[43mbranch_color\u001B[49m\u001B[38;5;241;43m=\u001B[39;49m\u001B[43mline_color\u001B[49m\u001B[43m,\u001B[49m\n\u001B[0;32m    158\u001B[0m \u001B[43m                                          \u001B[49m\u001B[43mtrafo_color\u001B[49m\u001B[38;5;241;43m=\u001B[39;49m\u001B[43mtrafo_color\u001B[49m\u001B[43m,\u001B[49m\n\u001B[0;32m    159\u001B[0m \u001B[43m                                          \u001B[49m\u001B[43mtrafo3w_color\u001B[49m\u001B[38;5;241;43m=\u001B[39;49m\u001B[43mtrafo3w_color\u001B[49m\u001B[43m,\u001B[49m\n\u001B[0;32m    160\u001B[0m \u001B[43m                                          \u001B[49m\u001B[43mext_grid_color\u001B[49m\u001B[38;5;241;43m=\u001B[39;49m\u001B[43mext_grid_color\u001B[49m\u001B[43m,\u001B[49m\n\u001B[0;32m    161\u001B[0m \u001B[43m                                          \u001B[49m\u001B[43mnode_element\u001B[49m\u001B[38;5;241;43m=\u001B[39;49m\u001B[43mnode_element\u001B[49m\u001B[43m,\u001B[49m\n\u001B[0;32m    162\u001B[0m \u001B[43m                                          \u001B[49m\u001B[43mbranch_element\u001B[49m\u001B[38;5;241;43m=\u001B[39;49m\u001B[43mbranch_element\u001B[49m\u001B[43m,\u001B[49m\n\u001B[0;32m    163\u001B[0m \u001B[43m                                          \u001B[49m\u001B[43mtrans_element\u001B[49m\u001B[38;5;241;43m=\u001B[39;49m\u001B[43mtrans_element\u001B[49m\u001B[43m,\u001B[49m\n\u001B[0;32m    164\u001B[0m \u001B[43m                                          \u001B[49m\u001B[43mtrans3w_element\u001B[49m\u001B[38;5;241;43m=\u001B[39;49m\u001B[43mtrans3w_element\u001B[49m\u001B[43m,\u001B[49m\n\u001B[0;32m    165\u001B[0m \u001B[43m                                          \u001B[49m\u001B[43mseparator_element\u001B[49m\u001B[38;5;241;43m=\u001B[39;49m\u001B[43mseparator_element\u001B[49m\u001B[43m,\u001B[49m\n\u001B[0;32m    166\u001B[0m \u001B[43m                                          \u001B[49m\u001B[43mbranch_trace_func\u001B[49m\u001B[38;5;241;43m=\u001B[39;49m\u001B[43mcreate_line_trace\u001B[49m\u001B[43m,\u001B[49m\n\u001B[0;32m    167\u001B[0m \u001B[43m                                          \u001B[49m\u001B[43mnode_trace_func\u001B[49m\u001B[38;5;241;43m=\u001B[39;49m\u001B[43mcreate_bus_trace\u001B[49m\u001B[43m,\u001B[49m\n\u001B[0;32m    168\u001B[0m \u001B[43m                                          \u001B[49m\u001B[43mhoverinfo_func\u001B[49m\u001B[38;5;241;43m=\u001B[39;49m\u001B[43mget_hoverinfo\u001B[49m\u001B[43m,\u001B[49m\n\u001B[0;32m    169\u001B[0m \u001B[43m                                          \u001B[49m\u001B[43mfilename\u001B[49m\u001B[38;5;241;43m=\u001B[39;49m\u001B[43mfilename\u001B[49m\u001B[43m,\u001B[49m\n\u001B[0;32m    170\u001B[0m \u001B[43m                                          \u001B[49m\u001B[43mauto_open\u001B[49m\u001B[38;5;241;43m=\u001B[39;49m\u001B[43mauto_open\u001B[49m\u001B[43m,\u001B[49m\n\u001B[0;32m    171\u001B[0m \u001B[43m                                          \u001B[49m\u001B[43mshowlegend\u001B[49m\u001B[38;5;241;43m=\u001B[39;49m\u001B[43mshowlegend\u001B[49m\u001B[43m)\u001B[49m\n\u001B[0;32m    172\u001B[0m \u001B[38;5;28;01mif\u001B[39;00m additional_traces:\n\u001B[0;32m    173\u001B[0m     \u001B[38;5;28;01mif\u001B[39;00m \u001B[38;5;28misinstance\u001B[39m(additional_traces, \u001B[38;5;28mdict\u001B[39m):\n",
      "File \u001B[1;32m~\\AppData\\Local\\Programs\\Python\\Python310\\lib\\site-packages\\pandapower\\plotting\\plotly\\simple_plotly.py:210\u001B[0m, in \u001B[0;36m_simple_plotly_generic\u001B[1;34m(net, respect_separators, use_branch_geodata, on_map, projection, map_style, figsize, aspectratio, branch_width, node_size, ext_grid_size, node_color, branch_color, trafo_color, trafo3w_color, ext_grid_color, node_element, branch_element, trans_element, trans3w_element, separator_element, branch_trace_func, node_trace_func, hoverinfo_func, filename, auto_open, showlegend)\u001B[0m\n\u001B[0;32m    207\u001B[0m \u001B[38;5;28;01mif\u001B[39;00m \u001B[38;5;28mlen\u001B[39m(net[node_geodata]) \u001B[38;5;241m==\u001B[39m \u001B[38;5;241m0\u001B[39m:\n\u001B[0;32m    208\u001B[0m     logger\u001B[38;5;241m.\u001B[39mwarning(\u001B[38;5;124m\"\u001B[39m\u001B[38;5;124mNo or insufficient geodata available --> Creating artificial coordinates.\u001B[39m\u001B[38;5;124m\"\u001B[39m \u001B[38;5;241m+\u001B[39m\n\u001B[0;32m    209\u001B[0m                    \u001B[38;5;124m\"\u001B[39m\u001B[38;5;124m This may take some time...\u001B[39m\u001B[38;5;124m\"\u001B[39m)\n\u001B[1;32m--> 210\u001B[0m     \u001B[43mcreate_generic_coordinates\u001B[49m\u001B[43m(\u001B[49m\u001B[43mnet\u001B[49m\u001B[43m,\u001B[49m\u001B[43m \u001B[49m\u001B[43mrespect_switches\u001B[49m\u001B[38;5;241;43m=\u001B[39;49m\u001B[43mrespect_separators\u001B[49m\u001B[43m)\u001B[49m\n\u001B[0;32m    211\u001B[0m     \u001B[38;5;28;01mif\u001B[39;00m on_map:\n\u001B[0;32m    212\u001B[0m         logger\u001B[38;5;241m.\u001B[39mwarning(\n\u001B[0;32m    213\u001B[0m             \u001B[38;5;124m\"\u001B[39m\u001B[38;5;124mMap plots not available with artificial coordinates and will be disabled!\u001B[39m\u001B[38;5;124m\"\u001B[39m)\n",
      "File \u001B[1;32m~\\AppData\\Local\\Programs\\Python\\Python310\\lib\\site-packages\\pandapower\\plotting\\generic_geodata.py:203\u001B[0m, in \u001B[0;36mcreate_generic_coordinates\u001B[1;34m(net, mg, library, respect_switches, geodata_table, buses, overwrite, layout_engine, trafo_length_km, switch_length_km)\u001B[0m\n\u001B[0;32m    201\u001B[0m \u001B[38;5;28;01mif\u001B[39;00m library \u001B[38;5;241m==\u001B[39m \u001B[38;5;124m\"\u001B[39m\u001B[38;5;124migraph\u001B[39m\u001B[38;5;124m\"\u001B[39m:\n\u001B[0;32m    202\u001B[0m     \u001B[38;5;28;01mif\u001B[39;00m \u001B[38;5;129;01mnot\u001B[39;00m IGRAPH_INSTALLED:\n\u001B[1;32m--> 203\u001B[0m         \u001B[43msoft_dependency_error\u001B[49m\u001B[43m(\u001B[49m\u001B[38;5;124;43m\"\u001B[39;49m\u001B[38;5;124;43mbuild_igraph_from_pp()\u001B[39;49m\u001B[38;5;124;43m\"\u001B[39;49m\u001B[43m,\u001B[49m\u001B[43m \u001B[49m\u001B[38;5;124;43m\"\u001B[39;49m\u001B[38;5;124;43migraph\u001B[39;49m\u001B[38;5;124;43m\"\u001B[39;49m\u001B[43m)\u001B[49m\n\u001B[0;32m    204\u001B[0m     graph, meshed, roots \u001B[38;5;241m=\u001B[39m build_igraph_from_pp(net, respect_switches, buses\u001B[38;5;241m=\u001B[39mbuses,\n\u001B[0;32m    205\u001B[0m                                                 trafo_length_km\u001B[38;5;241m=\u001B[39mtrafo_length_km, switch_length_km\u001B[38;5;241m=\u001B[39mswitch_length_km)\n\u001B[0;32m    206\u001B[0m     coords \u001B[38;5;241m=\u001B[39m coords_from_igraph(graph, roots, meshed)\n",
      "File \u001B[1;32m~\\AppData\\Local\\Programs\\Python\\Python310\\lib\\site-packages\\pandapower\\auxiliary.py:113\u001B[0m, in \u001B[0;36msoft_dependency_error\u001B[1;34m(fct_name, required_packages)\u001B[0m\n\u001B[0;32m    110\u001B[0m \u001B[38;5;28;01mdef\u001B[39;00m \u001B[38;5;21msoft_dependency_error\u001B[39m(fct_name, required_packages):\n\u001B[0;32m    111\u001B[0m     required_packages \u001B[38;5;241m=\u001B[39m required_packages \u001B[38;5;28;01mif\u001B[39;00m \u001B[38;5;28misinstance\u001B[39m(required_packages, \u001B[38;5;28mstr\u001B[39m) \u001B[38;5;28;01melse\u001B[39;00m \\\n\u001B[0;32m    112\u001B[0m         \u001B[38;5;124m\"\u001B[39m\u001B[38;5;124m'\u001B[39m\u001B[38;5;124m,\u001B[39m\u001B[38;5;124m'\u001B[39m\u001B[38;5;124m\"\u001B[39m\u001B[38;5;241m.\u001B[39mjoin(required_packages)\n\u001B[1;32m--> 113\u001B[0m     \u001B[38;5;28;01mraise\u001B[39;00m \u001B[38;5;167;01mImportError\u001B[39;00m(\n\u001B[0;32m    114\u001B[0m         \u001B[38;5;124m\"\u001B[39m\u001B[38;5;124mSome pandapower functionality use modules outside the setup.py \u001B[39m\u001B[38;5;124m\"\u001B[39m\n\u001B[0;32m    115\u001B[0m         \u001B[38;5;124mf\u001B[39m\u001B[38;5;124m\"\u001B[39m\u001B[38;5;124mrequirements: \u001B[39m\u001B[38;5;132;01m{\u001B[39;00mfct_name\u001B[38;5;132;01m}\u001B[39;00m\u001B[38;5;124m requires \u001B[39m\u001B[38;5;124m'\u001B[39m\u001B[38;5;132;01m{\u001B[39;00mrequired_packages\u001B[38;5;132;01m}\u001B[39;00m\u001B[38;5;124m'\u001B[39m\u001B[38;5;124m. \u001B[39m\u001B[38;5;130;01m\\n\u001B[39;00m\u001B[38;5;124m\"\u001B[39m\n\u001B[0;32m    116\u001B[0m         \u001B[38;5;124mf\u001B[39m\u001B[38;5;124m\"\u001B[39m\u001B[38;5;132;01m{\u001B[39;00mrequired_packages\u001B[38;5;132;01m}\u001B[39;00m\u001B[38;5;124m could not be imported.\u001B[39m\u001B[38;5;130;01m\\n\u001B[39;00m\u001B[38;5;124m\"\u001B[39m\n\u001B[0;32m    117\u001B[0m         \u001B[38;5;124m'\u001B[39m\u001B[38;5;124mTo install all pandapower dependencies, pip install pandapower[\u001B[39m\u001B[38;5;124m\"\u001B[39m\u001B[38;5;124mall\u001B[39m\u001B[38;5;124m\"\u001B[39m\u001B[38;5;124m] can be used.\u001B[39m\u001B[38;5;124m'\u001B[39m)\n",
      "\u001B[1;31mImportError\u001B[0m: Some pandapower functionality use modules outside the setup.py requirements: build_igraph_from_pp() requires 'igraph'. \nigraph could not be imported.\nTo install all pandapower dependencies, pip install pandapower[\"all\"] can be used."
     ]
    }
   ],
   "execution_count": 10
  }
 ],
 "metadata": {
  "kernelspec": {
   "display_name": "Python 3",
   "language": "python",
   "name": "python3"
  },
  "language_info": {
   "name": "python"
  }
 },
 "nbformat": 4,
 "nbformat_minor": 2
}
